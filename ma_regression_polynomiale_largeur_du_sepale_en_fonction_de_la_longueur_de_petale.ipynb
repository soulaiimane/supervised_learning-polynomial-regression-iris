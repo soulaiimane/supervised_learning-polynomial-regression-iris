{
 "cells": [
  {
   "cell_type": "code",
   "execution_count": 319,
   "id": "5c8e3862",
   "metadata": {},
   "outputs": [],
   "source": [
    "import numpy as np\n",
    "from sklearn.datasets import make_regression\n",
    "import matplotlib.pyplot as plt\n",
    "import pandas as pd\n",
    "%matplotlib inline"
   ]
  },
  {
   "cell_type": "code",
   "execution_count": 320,
   "id": "856d64ba",
   "metadata": {},
   "outputs": [],
   "source": [
    "dataset=pd.read_csv(\"iris.csv\")"
   ]
  },
  {
   "cell_type": "code",
   "execution_count": 321,
   "id": "0da5398a",
   "metadata": {},
   "outputs": [
    {
     "data": {
      "text/html": [
       "<div>\n",
       "<style scoped>\n",
       "    .dataframe tbody tr th:only-of-type {\n",
       "        vertical-align: middle;\n",
       "    }\n",
       "\n",
       "    .dataframe tbody tr th {\n",
       "        vertical-align: top;\n",
       "    }\n",
       "\n",
       "    .dataframe thead th {\n",
       "        text-align: right;\n",
       "    }\n",
       "</style>\n",
       "<table border=\"1\" class=\"dataframe\">\n",
       "  <thead>\n",
       "    <tr style=\"text-align: right;\">\n",
       "      <th></th>\n",
       "      <th>sepal_length</th>\n",
       "      <th>sepal_width</th>\n",
       "      <th>petal_length</th>\n",
       "      <th>petal_width</th>\n",
       "      <th>class</th>\n",
       "    </tr>\n",
       "  </thead>\n",
       "  <tbody>\n",
       "    <tr>\n",
       "      <th>0</th>\n",
       "      <td>5.1</td>\n",
       "      <td>3.5</td>\n",
       "      <td>1.4</td>\n",
       "      <td>0.2</td>\n",
       "      <td>Iris-setosa</td>\n",
       "    </tr>\n",
       "    <tr>\n",
       "      <th>1</th>\n",
       "      <td>4.9</td>\n",
       "      <td>3.0</td>\n",
       "      <td>1.4</td>\n",
       "      <td>0.2</td>\n",
       "      <td>Iris-setosa</td>\n",
       "    </tr>\n",
       "    <tr>\n",
       "      <th>2</th>\n",
       "      <td>4.7</td>\n",
       "      <td>3.2</td>\n",
       "      <td>1.3</td>\n",
       "      <td>0.2</td>\n",
       "      <td>Iris-setosa</td>\n",
       "    </tr>\n",
       "    <tr>\n",
       "      <th>3</th>\n",
       "      <td>4.6</td>\n",
       "      <td>3.1</td>\n",
       "      <td>1.5</td>\n",
       "      <td>0.2</td>\n",
       "      <td>Iris-setosa</td>\n",
       "    </tr>\n",
       "    <tr>\n",
       "      <th>4</th>\n",
       "      <td>5.0</td>\n",
       "      <td>3.6</td>\n",
       "      <td>1.4</td>\n",
       "      <td>0.2</td>\n",
       "      <td>Iris-setosa</td>\n",
       "    </tr>\n",
       "    <tr>\n",
       "      <th>...</th>\n",
       "      <td>...</td>\n",
       "      <td>...</td>\n",
       "      <td>...</td>\n",
       "      <td>...</td>\n",
       "      <td>...</td>\n",
       "    </tr>\n",
       "    <tr>\n",
       "      <th>145</th>\n",
       "      <td>6.7</td>\n",
       "      <td>3.0</td>\n",
       "      <td>5.2</td>\n",
       "      <td>2.3</td>\n",
       "      <td>Iris-virginica</td>\n",
       "    </tr>\n",
       "    <tr>\n",
       "      <th>146</th>\n",
       "      <td>6.3</td>\n",
       "      <td>2.5</td>\n",
       "      <td>5.0</td>\n",
       "      <td>1.9</td>\n",
       "      <td>Iris-virginica</td>\n",
       "    </tr>\n",
       "    <tr>\n",
       "      <th>147</th>\n",
       "      <td>6.5</td>\n",
       "      <td>3.0</td>\n",
       "      <td>5.2</td>\n",
       "      <td>2.0</td>\n",
       "      <td>Iris-virginica</td>\n",
       "    </tr>\n",
       "    <tr>\n",
       "      <th>148</th>\n",
       "      <td>6.2</td>\n",
       "      <td>3.4</td>\n",
       "      <td>5.4</td>\n",
       "      <td>2.3</td>\n",
       "      <td>Iris-virginica</td>\n",
       "    </tr>\n",
       "    <tr>\n",
       "      <th>149</th>\n",
       "      <td>5.9</td>\n",
       "      <td>3.0</td>\n",
       "      <td>5.1</td>\n",
       "      <td>1.8</td>\n",
       "      <td>Iris-virginica</td>\n",
       "    </tr>\n",
       "  </tbody>\n",
       "</table>\n",
       "<p>150 rows × 5 columns</p>\n",
       "</div>"
      ],
      "text/plain": [
       "     sepal_length  sepal_width  petal_length  petal_width           class\n",
       "0             5.1          3.5           1.4          0.2     Iris-setosa\n",
       "1             4.9          3.0           1.4          0.2     Iris-setosa\n",
       "2             4.7          3.2           1.3          0.2     Iris-setosa\n",
       "3             4.6          3.1           1.5          0.2     Iris-setosa\n",
       "4             5.0          3.6           1.4          0.2     Iris-setosa\n",
       "..            ...          ...           ...          ...             ...\n",
       "145           6.7          3.0           5.2          2.3  Iris-virginica\n",
       "146           6.3          2.5           5.0          1.9  Iris-virginica\n",
       "147           6.5          3.0           5.2          2.0  Iris-virginica\n",
       "148           6.2          3.4           5.4          2.3  Iris-virginica\n",
       "149           5.9          3.0           5.1          1.8  Iris-virginica\n",
       "\n",
       "[150 rows x 5 columns]"
      ]
     },
     "execution_count": 321,
     "metadata": {},
     "output_type": "execute_result"
    }
   ],
   "source": [
    "dataset"
   ]
  },
  {
   "cell_type": "code",
   "execution_count": 322,
   "id": "46dcca03",
   "metadata": {},
   "outputs": [
    {
     "data": {
      "image/png": "[encoded data removed]",
      "text/plain": [
       "<Figure size 640x480 with 1 Axes>"
      ]
     },
     "metadata": {},
     "output_type": "display_data"
    }
   ],
   "source": [
    "plt.plot(dataset[\"petal_length\"],dataset[\"sepal_width\"],'+')\n",
    "plt.xlabel('petal_lenght')\n",
    "plt.ylabel('sepal_width')\n",
    "plt.show()"
   ]
  },
  {
   "cell_type": "code",
   "execution_count": 323,
   "id": "90f30ce1",
   "metadata": {},
   "outputs": [
    {
     "name": "stderr",
     "output_type": "stream",
     "text": [
      "C:\\Users\\lenovo\\AppData\\Local\\Temp\\ipykernel_23084\\194147023.py:3: SettingWithCopyWarning: \n",
      "A value is trying to be set on a copy of a slice from a DataFrame\n",
      "\n",
      "See the caveats in the documentation: https://pandas.pydata.org/pandas-docs/stable/user_guide/indexing.html#returning-a-view-versus-a-copy\n",
      "  dataset.iloc[:,:] = (dataset - dataset.mean())/dataset.std()\n"
     ]
    },
    {
     "data": {
      "text/html": [
       "<div>\n",
       "<style scoped>\n",
       "    .dataframe tbody tr th:only-of-type {\n",
       "        vertical-align: middle;\n",
       "    }\n",
       "\n",
       "    .dataframe tbody tr th {\n",
       "        vertical-align: top;\n",
       "    }\n",
       "\n",
       "    .dataframe thead th {\n",
       "        text-align: right;\n",
       "    }\n",
       "</style>\n",
       "<table border=\"1\" class=\"dataframe\">\n",
       "  <thead>\n",
       "    <tr style=\"text-align: right;\">\n",
       "      <th></th>\n",
       "      <th>petal_length</th>\n",
       "      <th>sepal_width</th>\n",
       "    </tr>\n",
       "  </thead>\n",
       "  <tbody>\n",
       "    <tr>\n",
       "      <th>0</th>\n",
       "      <td>-1.336794</td>\n",
       "      <td>1.028611</td>\n",
       "    </tr>\n",
       "    <tr>\n",
       "      <th>1</th>\n",
       "      <td>-1.336794</td>\n",
       "      <td>-0.124540</td>\n",
       "    </tr>\n",
       "    <tr>\n",
       "      <th>2</th>\n",
       "      <td>-1.393470</td>\n",
       "      <td>0.336720</td>\n",
       "    </tr>\n",
       "    <tr>\n",
       "      <th>3</th>\n",
       "      <td>-1.280118</td>\n",
       "      <td>0.106090</td>\n",
       "    </tr>\n",
       "    <tr>\n",
       "      <th>4</th>\n",
       "      <td>-1.336794</td>\n",
       "      <td>1.259242</td>\n",
       "    </tr>\n",
       "    <tr>\n",
       "      <th>...</th>\n",
       "      <td>...</td>\n",
       "      <td>...</td>\n",
       "    </tr>\n",
       "    <tr>\n",
       "      <th>145</th>\n",
       "      <td>0.816888</td>\n",
       "      <td>-0.124540</td>\n",
       "    </tr>\n",
       "    <tr>\n",
       "      <th>146</th>\n",
       "      <td>0.703536</td>\n",
       "      <td>-1.277692</td>\n",
       "    </tr>\n",
       "    <tr>\n",
       "      <th>147</th>\n",
       "      <td>0.816888</td>\n",
       "      <td>-0.124540</td>\n",
       "    </tr>\n",
       "    <tr>\n",
       "      <th>148</th>\n",
       "      <td>0.930239</td>\n",
       "      <td>0.797981</td>\n",
       "    </tr>\n",
       "    <tr>\n",
       "      <th>149</th>\n",
       "      <td>0.760212</td>\n",
       "      <td>-0.124540</td>\n",
       "    </tr>\n",
       "  </tbody>\n",
       "</table>\n",
       "<p>150 rows × 2 columns</p>\n",
       "</div>"
      ],
      "text/plain": [
       "     petal_length  sepal_width\n",
       "0       -1.336794     1.028611\n",
       "1       -1.336794    -0.124540\n",
       "2       -1.393470     0.336720\n",
       "3       -1.280118     0.106090\n",
       "4       -1.336794     1.259242\n",
       "..            ...          ...\n",
       "145      0.816888    -0.124540\n",
       "146      0.703536    -1.277692\n",
       "147      0.816888    -0.124540\n",
       "148      0.930239     0.797981\n",
       "149      0.760212    -0.124540\n",
       "\n",
       "[150 rows x 2 columns]"
      ]
     },
     "execution_count": 323,
     "metadata": {},
     "output_type": "execute_result"
    }
   ],
   "source": [
    "dataset=dataset[['petal_length','sepal_width']]\n",
    "#print(df)\n",
    "dataset.iloc[:,:] = (dataset - dataset.mean())/dataset.std()\n",
    "dataset"
   ]
  },
  {
   "cell_type": "code",
   "execution_count": 105,
   "id": "9aa618b4",
   "metadata": {},
   "outputs": [],
   "source": [
    "x=dataset.petal_length\n",
    "y=dataset.sepal_width\n"
   ]
  },
  {
   "cell_type": "code",
   "execution_count": 106,
   "id": "d8ef20bd",
   "metadata": {},
   "outputs": [
    {
     "data": {
      "text/plain": [
       "(150,)"
      ]
     },
     "execution_count": 106,
     "metadata": {},
     "output_type": "execute_result"
    }
   ],
   "source": [
    "x.shape"
   ]
  },
  {
   "cell_type": "code",
   "execution_count": 110,
   "id": "83c65d85",
   "metadata": {},
   "outputs": [],
   "source": [
    "x=dataset.petal_length.values.reshape(150,1)\n",
    "y=dataset.sepal_width.values.reshape(150,1)"
   ]
  },
  {
   "cell_type": "code",
   "execution_count": 111,
   "id": "52dee284",
   "metadata": {},
   "outputs": [
    {
     "name": "stdout",
     "output_type": "stream",
     "text": [
      "(150, 1)\n",
      "(150, 1)\n"
     ]
    }
   ],
   "source": [
    "print(x.shape)\n",
    "print(y.shape)"
   ]
  },
  {
   "cell_type": "code",
   "execution_count": 308,
   "id": "7cb6e9f9",
   "metadata": {},
   "outputs": [],
   "source": [
    "X = np.hstack((x, np.ones(x.shape)))\n",
    "X = np.hstack((x**2, X))\n",
    "X = np.hstack((x**3, X))\n",
    "X = np.hstack((x**4, X))\n",
    "X = np.hstack((x**5, X))\n"
   ]
  },
  {
   "cell_type": "code",
   "execution_count": 309,
   "id": "b2749fa9",
   "metadata": {},
   "outputs": [
    {
     "data": {
      "text/plain": [
       "array([[ 1.76405235],\n",
       "       [ 0.40015721],\n",
       "       [ 0.97873798],\n",
       "       [ 2.2408932 ],\n",
       "       [ 1.86755799],\n",
       "       [-0.97727788]])"
      ]
     },
     "execution_count": 309,
     "metadata": {},
     "output_type": "execute_result"
    }
   ],
   "source": [
    "# Initialisation du vecteur theta aléatoire, avec 3 éléments (car X a trois colonnes)\n",
    "np.random.seed(0) # pour produire toujours le meme vecteur theta aléatoire\n",
    "theta = np.random.randn(6, 1)\n",
    "theta"
   ]
  },
  {
   "cell_type": "code",
   "execution_count": 310,
   "id": "91b21211",
   "metadata": {},
   "outputs": [],
   "source": [
    "def model(X, theta):\n",
    "    return X.dot(theta)"
   ]
  },
  {
   "cell_type": "code",
   "execution_count": 311,
   "id": "fbae0dfc",
   "metadata": {},
   "outputs": [],
   "source": [
    "def cost_function(X, y, theta):\n",
    "    m = len(y)\n",
    "    return 1/(2*m)*np.sum((model(X, theta) - y)**2)"
   ]
  },
  {
   "cell_type": "code",
   "execution_count": 312,
   "id": "9816ba41",
   "metadata": {},
   "outputs": [
    {
     "data": {
      "text/plain": [
       "47.518282347834806"
      ]
     },
     "execution_count": 312,
     "metadata": {},
     "output_type": "execute_result"
    }
   ],
   "source": [
    "cost_function(X, y, theta)"
   ]
  },
  {
   "cell_type": "code",
   "execution_count": 313,
   "id": "b2a46c21",
   "metadata": {},
   "outputs": [],
   "source": [
    "def grad(X, y, theta):\n",
    "    m = len(y)\n",
    "    return 1/m * X.T.dot(model(X, theta) - y)"
   ]
  },
  {
   "cell_type": "code",
   "execution_count": 314,
   "id": "0c859efb",
   "metadata": {},
   "outputs": [],
   "source": [
    "def gradient_descent(X, y, theta, learning_rate, n_iterations):\n",
    "    \n",
    "    \n",
    "    cost_history = np.zeros(n_iterations) # création d'un tableau de stockage pour enregistrer l'évolution du Cout du modele\n",
    "    \n",
    "    for i in range(0, n_iterations):\n",
    "        theta = theta - learning_rate * grad(X, y, theta) # mise a jour du parametre theta (formule du gradient descent)\n",
    "        cost_history[i] = cost_function(X, y, theta) # on enregistre la valeur du Cout au tour i dans cost_history[i]\n",
    "        \n",
    "    return theta, cost_history"
   ]
  },
  {
   "cell_type": "code",
   "execution_count": 315,
   "id": "90f6f603",
   "metadata": {},
   "outputs": [
    {
     "name": "stdout",
     "output_type": "stream",
     "text": [
      "[16.09984526  6.16272672  2.59589941  1.28167794  0.78852599  0.59680334\n",
      "  0.51656012  0.47819822  0.45612767  0.44086572  0.42883536  0.41863368\n",
      "  0.40966565  0.40164284  0.39439865  0.38781931  0.38181758  0.37632207\n",
      "  0.37127249  0.36661719  0.36231161  0.35831714  0.3546003   0.35113197\n",
      "  0.34788679  0.34484265  0.34198022  0.3392826   0.33673495  0.33432425\n",
      "  0.33203901  0.32986911  0.32780556  0.32584042  0.32396659  0.32217775\n",
      "  0.32046824  0.31883296  0.31726734  0.31576723  0.31432886  0.31294881\n",
      "  0.31162396  0.31035143  0.30912859  0.30795301  0.30682245  0.3057348\n",
      "  0.30468812  0.3036806   0.30271055  0.30177635  0.30087652  0.30000964\n",
      "  0.29917436  0.29836944  0.29759366  0.29684588  0.29612504  0.29543008\n",
      "  0.29476003  0.29411394  0.29349093  0.29289012  0.2923107   0.29175187\n",
      "  0.29121289  0.29069302  0.29019157  0.28970788  0.28924129  0.28879119\n",
      "  0.28835698  0.2879381   0.28753399  0.28714413  0.286768    0.28640512\n",
      "  0.286055    0.2857172   0.28539128  0.28507682  0.2847734   0.28448063\n",
      "  0.28419814  0.28392556  0.28366254  0.28340874  0.28316383  0.2829275\n",
      "  0.28269945  0.28247937  0.282267    0.28206205  0.28186427  0.28167339\n",
      "  0.28148918  0.2813114   0.28113983  0.28097424  0.28081442  0.28066016\n",
      "  0.28051128  0.28036758  0.28022888  0.280095    0.27996577  0.27984103\n",
      "  0.27972062  0.27960439  0.27949218  0.27938386  0.27927929  0.27917834\n",
      "  0.27908088  0.27898678  0.27889593  0.27880822  0.27872353  0.27864176\n",
      "  0.27856279  0.27848655  0.27841292  0.27834182  0.27827316  0.27820685\n",
      "  0.27814281  0.27808095  0.27802122  0.27796351  0.27790778  0.27785394\n",
      "  0.27780193  0.27775169  0.27770315  0.27765626  0.27761095  0.27756717\n",
      "  0.27752487  0.277484    0.2774445   0.27740632  0.27736943  0.27733377\n",
      "  0.27729931  0.27726599  0.27723379  0.27720266  0.27717256  0.27714345\n",
      "  0.27711531  0.2770881   0.27706179  0.27703634  0.27701173  0.27698792\n",
      "  0.27696489  0.27694261  0.27692105  0.27690019  0.27688001  0.27686048\n",
      "  0.27684158  0.27682328  0.27680557  0.27678843  0.27677183  0.27675576\n",
      "  0.27674019  0.27672512  0.27671052  0.27669638  0.27668268  0.27666941\n",
      "  0.27665655  0.27664408  0.276632    0.27662029  0.27660894  0.27659793\n",
      "  0.27658726  0.27657691  0.27656687  0.27655713  0.27654768  0.27653851\n",
      "  0.27652961  0.27652097  0.27651258  0.27650444  0.27649653  0.27648886\n",
      "  0.2764814   0.27647415  0.27646711  0.27646026  0.27645361  0.27644715\n",
      "  0.27644086  0.27643474  0.27642879  0.27642301  0.27641737  0.27641189\n",
      "  0.27640656  0.27640137  0.27639631  0.27639138  0.27638658  0.27638191\n",
      "  0.27637735  0.27637291  0.27636858  0.27636435  0.27636023  0.27635622\n",
      "  0.2763523   0.27634847  0.27634473  0.27634109  0.27633752  0.27633404\n",
      "  0.27633065  0.27632732  0.27632408  0.2763209   0.2763178   0.27631476\n",
      "  0.27631179  0.27630888  0.27630604  0.27630325  0.27630053  0.27629786\n",
      "  0.27629524  0.27629268  0.27629016  0.2762877   0.27628529  0.27628292\n",
      "  0.2762806   0.27627832  0.27627608  0.27627388  0.27627173  0.27626961\n",
      "  0.27626753  0.27626549  0.27626348  0.27626151  0.27625957  0.27625766\n",
      "  0.27625579  0.27625395  0.27625213  0.27625035  0.27624859  0.27624686\n",
      "  0.27624515  0.27624348  0.27624183  0.2762402   0.27623859  0.27623701\n",
      "  0.27623546  0.27623392  0.2762324   0.27623091  0.27622944  0.27622798\n",
      "  0.27622655  0.27622513  0.27622374  0.27622236  0.276221    0.27621965\n",
      "  0.27621832  0.27621701  0.27621571  0.27621443  0.27621317  0.27621192\n",
      "  0.27621068  0.27620946  0.27620825  0.27620705  0.27620587  0.2762047\n",
      "  0.27620354  0.2762024   0.27620127  0.27620015  0.27619904  0.27619794\n",
      "  0.27619685  0.27619577  0.27619471  0.27619365  0.27619261  0.27619157\n",
      "  0.27619055  0.27618953  0.27618853  0.27618753  0.27618654  0.27618556\n",
      "  0.27618459  0.27618363  0.27618268  0.27618173  0.2761808   0.27617987\n",
      "  0.27617895  0.27617804  0.27617713  0.27617623  0.27617534  0.27617446\n",
      "  0.27617358  0.27617271  0.27617185  0.276171    0.27617015  0.27616931\n",
      "  0.27616847  0.27616764  0.27616682  0.27616601  0.2761652   0.27616439\n",
      "  0.27616359  0.2761628   0.27616202  0.27616124  0.27616046  0.27615969\n",
      "  0.27615893  0.27615817  0.27615742  0.27615667  0.27615593  0.27615519\n",
      "  0.27615446  0.27615373  0.27615301  0.2761523   0.27615158  0.27615088\n",
      "  0.27615018  0.27614948  0.27614879  0.2761481   0.27614742  0.27614674\n",
      "  0.27614606  0.27614539  0.27614473  0.27614407  0.27614341  0.27614276\n",
      "  0.27614211  0.27614147  0.27614083  0.27614019  0.27613956  0.27613893\n",
      "  0.27613831  0.27613769  0.27613707  0.27613646  0.27613586  0.27613525\n",
      "  0.27613465  0.27613405  0.27613346  0.27613287  0.27613229  0.27613171\n",
      "  0.27613113  0.27613055  0.27612998  0.27612942  0.27612885  0.27612829\n",
      "  0.27612773  0.27612718  0.27612663  0.27612608  0.27612554  0.276125\n",
      "  0.27612446  0.27612393  0.2761234   0.27612287  0.27612234  0.27612182\n",
      "  0.2761213   0.27612079  0.27612028  0.27611977  0.27611926  0.27611876\n",
      "  0.27611826  0.27611776  0.27611727  0.27611678  0.27611629  0.2761158\n",
      "  0.27611532  0.27611484  0.27611436  0.27611389  0.27611342  0.27611295\n",
      "  0.27611248  0.27611202  0.27611156  0.2761111   0.27611064  0.27611019\n",
      "  0.27610974  0.27610929  0.27610885  0.2761084   0.27610796  0.27610753\n",
      "  0.27610709  0.27610666  0.27610623  0.2761058   0.27610538  0.27610495\n",
      "  0.27610453  0.27610411  0.2761037   0.27610329  0.27610287  0.27610247\n",
      "  0.27610206  0.27610165  0.27610125  0.27610085  0.27610046  0.27610006\n",
      "  0.27609967  0.27609928  0.27609889  0.2760985   0.27609812  0.27609773\n",
      "  0.27609735  0.27609698  0.2760966   0.27609623  0.27609586  0.27609549\n",
      "  0.27609512  0.27609475  0.27609439  0.27609403  0.27609367  0.27609331\n",
      "  0.27609295  0.2760926   0.27609225  0.2760919   0.27609155  0.2760912\n",
      "  0.27609086  0.27609052  0.27609018  0.27608984  0.2760895   0.27608917\n",
      "  0.27608883  0.2760885   0.27608817  0.27608784  0.27608752  0.27608719\n",
      "  0.27608687  0.27608655  0.27608623  0.27608591  0.2760856   0.27608528\n",
      "  0.27608497  0.27608466  0.27608435  0.27608404  0.27608374  0.27608343\n",
      "  0.27608313  0.27608283  0.27608253  0.27608223  0.27608194  0.27608164\n",
      "  0.27608135  0.27608106  0.27608077  0.27608048  0.27608019  0.27607991\n",
      "  0.27607962  0.27607934  0.27607906  0.27607878  0.2760785   0.27607822\n",
      "  0.27607795  0.27607767  0.2760774   0.27607713  0.27607686  0.27607659\n",
      "  0.27607633  0.27607606  0.2760758   0.27607553  0.27607527  0.27607501\n",
      "  0.27607475  0.2760745   0.27607424  0.27607399  0.27607373  0.27607348\n",
      "  0.27607323  0.27607298  0.27607273  0.27607248  0.27607224  0.27607199\n",
      "  0.27607175  0.27607151  0.27607127  0.27607103  0.27607079  0.27607055\n",
      "  0.27607032  0.27607008  0.27606985  0.27606962  0.27606938  0.27606915\n",
      "  0.27606892  0.2760687   0.27606847  0.27606824  0.27606802  0.2760678\n",
      "  0.27606757  0.27606735  0.27606713  0.27606691  0.2760667   0.27606648\n",
      "  0.27606626  0.27606605  0.27606583  0.27606562  0.27606541  0.2760652\n",
      "  0.27606499  0.27606478  0.27606457  0.27606437  0.27606416  0.27606396\n",
      "  0.27606375  0.27606355  0.27606335  0.27606315  0.27606295  0.27606275\n",
      "  0.27606255  0.27606236  0.27606216  0.27606197  0.27606177  0.27606158\n",
      "  0.27606139  0.2760612   0.27606101  0.27606082  0.27606063  0.27606044\n",
      "  0.27606025  0.27606007  0.27605988  0.2760597   0.27605952  0.27605933\n",
      "  0.27605915  0.27605897  0.27605879  0.27605861  0.27605843  0.27605826\n",
      "  0.27605808  0.27605791  0.27605773  0.27605756  0.27605738  0.27605721\n",
      "  0.27605704  0.27605687  0.2760567   0.27605653  0.27605636  0.27605619\n",
      "  0.27605603  0.27605586  0.27605569  0.27605553  0.27605537  0.2760552\n",
      "  0.27605504  0.27605488  0.27605472  0.27605456  0.2760544   0.27605424\n",
      "  0.27605408  0.27605392  0.27605377  0.27605361  0.27605346  0.2760533\n",
      "  0.27605315  0.276053    0.27605284  0.27605269  0.27605254  0.27605239\n",
      "  0.27605224  0.27605209  0.27605194  0.27605179  0.27605165  0.2760515\n",
      "  0.27605136  0.27605121  0.27605107  0.27605092  0.27605078  0.27605064\n",
      "  0.27605049  0.27605035  0.27605021  0.27605007  0.27604993  0.27604979\n",
      "  0.27604965  0.27604952  0.27604938  0.27604924  0.27604911  0.27604897\n",
      "  0.27604884  0.2760487   0.27604857  0.27604844  0.2760483   0.27604817\n",
      "  0.27604804  0.27604791  0.27604778  0.27604765  0.27604752  0.27604739\n",
      "  0.27604726  0.27604713  0.27604701  0.27604688  0.27604675  0.27604663\n",
      "  0.2760465   0.27604638  0.27604626  0.27604613  0.27604601  0.27604589\n",
      "  0.27604577  0.27604564  0.27604552  0.2760454   0.27604528  0.27604516\n",
      "  0.27604504  0.27604493  0.27604481  0.27604469  0.27604457  0.27604446\n",
      "  0.27604434  0.27604423  0.27604411  0.276044    0.27604388  0.27604377\n",
      "  0.27604365  0.27604354  0.27604343  0.27604332  0.27604321  0.27604309\n",
      "  0.27604298  0.27604287  0.27604276  0.27604266  0.27604255  0.27604244\n",
      "  0.27604233  0.27604222  0.27604212  0.27604201  0.2760419   0.2760418\n",
      "  0.27604169  0.27604159  0.27604148  0.27604138  0.27604127  0.27604117\n",
      "  0.27604107  0.27604096  0.27604086  0.27604076  0.27604066  0.27604056\n",
      "  0.27604046  0.27604036  0.27604026  0.27604016  0.27604006  0.27603996\n",
      "  0.27603986  0.27603976  0.27603966  0.27603957  0.27603947  0.27603937\n",
      "  0.27603928  0.27603918  0.27603909  0.27603899  0.2760389   0.2760388\n",
      "  0.27603871  0.27603861  0.27603852  0.27603843  0.27603833  0.27603824\n",
      "  0.27603815  0.27603806  0.27603797  0.27603788  0.27603779  0.27603769\n",
      "  0.2760376   0.27603752  0.27603743  0.27603734  0.27603725  0.27603716\n",
      "  0.27603707  0.27603698  0.2760369   0.27603681  0.27603672  0.27603664\n",
      "  0.27603655  0.27603646  0.27603638  0.27603629  0.27603621  0.27603612\n",
      "  0.27603604  0.27603595  0.27603587  0.27603579  0.2760357   0.27603562\n",
      "  0.27603554  0.27603546  0.27603537  0.27603529  0.27603521  0.27603513\n",
      "  0.27603505  0.27603497  0.27603489  0.27603481  0.27603473  0.27603465\n",
      "  0.27603457  0.27603449  0.27603441  0.27603433  0.27603425  0.27603418\n",
      "  0.2760341   0.27603402  0.27603394  0.27603387  0.27603379  0.27603371\n",
      "  0.27603364  0.27603356  0.27603349  0.27603341  0.27603334  0.27603326\n",
      "  0.27603319  0.27603311  0.27603304  0.27603296  0.27603289  0.27603282\n",
      "  0.27603274  0.27603267  0.2760326   0.27603253  0.27603245  0.27603238\n",
      "  0.27603231  0.27603224  0.27603217  0.2760321   0.27603203  0.27603196\n",
      "  0.27603189  0.27603182  0.27603175  0.27603168  0.27603161  0.27603154\n",
      "  0.27603147  0.2760314   0.27603133  0.27603126  0.27603119  0.27603113\n",
      "  0.27603106  0.27603099  0.27603092  0.27603086  0.27603079  0.27603072\n",
      "  0.27603066  0.27603059  0.27603053  0.27603046  0.27603039  0.27603033\n",
      "  0.27603026  0.2760302   0.27603013  0.27603007  0.27603     0.27602994\n",
      "  0.27602988  0.27602981  0.27602975  0.27602969  0.27602962  0.27602956\n",
      "  0.2760295   0.27602943  0.27602937  0.27602931  0.27602925  0.27602919\n",
      "  0.27602912  0.27602906  0.276029    0.27602894  0.27602888  0.27602882\n",
      "  0.27602876  0.2760287   0.27602864  0.27602858  0.27602852  0.27602846\n",
      "  0.2760284   0.27602834  0.27602828  0.27602822  0.27602816  0.2760281\n",
      "  0.27602804  0.27602799  0.27602793  0.27602787  0.27602781  0.27602775\n",
      "  0.2760277   0.27602764  0.27602758  0.27602753  0.27602747  0.27602741\n",
      "  0.27602736  0.2760273   0.27602724  0.27602719  0.27602713  0.27602708\n",
      "  0.27602702  0.27602696  0.27602691  0.27602685  0.2760268   0.27602674\n",
      "  0.27602669  0.27602664  0.27602658  0.27602653  0.27602647  0.27602642\n",
      "  0.27602637  0.27602631  0.27602626  0.27602621  0.27602615  0.2760261\n",
      "  0.27602605  0.27602599  0.27602594  0.27602589  0.27602584  0.27602579\n",
      "  0.27602573  0.27602568  0.27602563  0.27602558  0.27602553  0.27602548\n",
      "  0.27602542  0.27602537  0.27602532  0.27602527  0.27602522  0.27602517\n",
      "  0.27602512  0.27602507  0.27602502  0.27602497  0.27602492  0.27602487\n",
      "  0.27602482  0.27602477  0.27602472  0.27602467  0.27602463  0.27602458\n",
      "  0.27602453  0.27602448  0.27602443  0.27602438  0.27602433  0.27602429\n",
      "  0.27602424  0.27602419  0.27602414  0.2760241   0.27602405  0.276024\n",
      "  0.27602395  0.27602391  0.27602386  0.27602381  0.27602377  0.27602372\n",
      "  0.27602367  0.27602363  0.27602358  0.27602354  0.27602349  0.27602344\n",
      "  0.2760234   0.27602335  0.27602331  0.27602326  0.27602322  0.27602317\n",
      "  0.27602313  0.27602308  0.27602304  0.27602299  0.27602295  0.2760229\n",
      "  0.27602286  0.27602281  0.27602277  0.27602273]\n"
     ]
    }
   ],
   "source": [
    "n_iterations = 1000\n",
    "learning_rate = 0.1\n",
    "\n",
    "theta_final,cost_history = gradient_descent(X, y, theta, learning_rate, n_iterations)\n",
    "print(cost_history)"
   ]
  },
  {
   "cell_type": "code",
   "execution_count": 316,
   "id": "3ca84664",
   "metadata": {},
   "outputs": [
    {
     "data": {
      "image/png": "[encoded data removed]",
      "text/plain": [
       "<Figure size 640x480 with 1 Axes>"
      ]
     },
     "metadata": {},
     "output_type": "display_data"
    }
   ],
   "source": [
    "# création d'un vecteur prédictions qui contient les prédictions de notre modele final\n",
    "predictions = model(X, theta_final)\n",
    "\n",
    "# Affiche les résultats de prédictions (en rouge) par rapport a notre Dataset (en bleu)\n",
    "plt.scatter(x, y)\n",
    "plt.scatter(x, predictions, c='r')\n",
    "plt.xlabel('x')\n",
    "plt.ylabel('y')\n",
    "plt.show()"
   ]
  },
  {
   "cell_type": "code",
   "execution_count": 317,
   "id": "1e86ea0e",
   "metadata": {},
   "outputs": [],
   "source": [
    "def coef_determination(y, pred):\n",
    "    u = ((y - pred)**2).sum()\n",
    "    v = ((y - y.mean())**2).sum()\n",
    "    return 1 - u/v"
   ]
  },
  {
   "cell_type": "code",
   "execution_count": 318,
   "id": "9577ebdb",
   "metadata": {},
   "outputs": [
    {
     "data": {
      "text/plain": [
       "0.44424954657884996"
      ]
     },
     "execution_count": 318,
     "metadata": {},
     "output_type": "execute_result"
    }
   ],
   "source": [
    "coef_determination(y, predictions)"
   ]
  }
 ],
 "metadata": {
  "kernelspec": {
   "display_name": "Python 3 (ipykernel)",
   "language": "python",
   "name": "python3"
  },
  "language_info": {
   "codemirror_mode": {
    "name": "ipython",
    "version": 3
   },
   "file_extension": ".py",
   "mimetype": "text/x-python",
   "name": "python",
   "nbconvert_exporter": "python",
   "pygments_lexer": "ipython3",
   "version": "3.9.13"
  }
 },
 "nbformat": 4,
 "nbformat_minor": 5
}
